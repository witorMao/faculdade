{
  "nbformat": 4,
  "nbformat_minor": 0,
  "metadata": {
    "colab": {
      "name": "trabalho1",
      "provenance": [],
      "collapsed_sections": []
    },
    "kernelspec": {
      "name": "python3",
      "display_name": "Python 3"
    }
  },
  "cells": [
    {
      "cell_type": "markdown",
      "metadata": {
        "id": "RxWJwUIpVp2F"
      },
      "source": [
        "# Integrantes do grupo\n",
        "Bruno dos Santos, **NUSP 10786170**\n",
        "\n",
        "Henrique de S. Q. dos Santos, **NUSP 10819029**\n",
        "\n",
        "Paulo H. da Silva, **NUSP 10734515**\n",
        "\n",
        "Witor M. A. de Oliveira, **NUSP 10692190**"
      ]
    },
    {
      "cell_type": "markdown",
      "metadata": {
        "id": "W8OlSAJ4U2Tj"
      },
      "source": [
        "# Descrição do Problema\n",
        "Abaixo, definimos a função objetivo, as restrições e variáveis do modelo."
      ]
    },
    {
      "cell_type": "markdown",
      "metadata": {
        "id": "JNTl9nwd48Tk"
      },
      "source": [
        "Função objetivo: $\\min z = \\sum_{(i,j) \\in G}^{}(D_{ij} \\times p_{ij})$\n",
        "\n",
        "Restrições:\n",
        "\n",
        "- (1)&nbsp; $\\sum_{i=1}^{n}p_{ij} = 1, j = 1,...,n$\n",
        "- (2)&nbsp; $\\sum_{j=1}^{n}p_{ji} = 1, i = 1,...,n$\n",
        "- (3)&nbsp; $\\sum_{i,j \\in g} p_{ij} = |g|$\n",
        "- (4)&nbsp; $p_{ij} + p_{ji} \\leq 1$\n",
        "- (5)&nbsp; $p_{ij} \\in \\{0,1\\}, \\forall i,j \\in G$\n",
        "- (6)&nbsp; $|g| > 2,  \\forall G$\n",
        "- (7)&nbsp; $D_{ij} = M, i=j, j = 1,...,n$\n",
        "\n",
        "Onde:\n",
        "\n",
        "- $D_{ij}$ é o custo (dado pela distância euclideana) de visitar a galáxia $j$ a partir de $i$\n",
        "- $p_{ij}$ = 1, se a aresta $(i,j)$ for escolhida como caminho;\n",
        "- $p_{ij}$ = 0, caso contrário;\n",
        "- $g$ é um subconjunto do conjunto de galáxias $G$;\n",
        "- $|g|$ é o número de galáxias do subconjunto $g$;\n",
        "- $M$ é um valor inteiro suficientemente grande.\n",
        "\n",
        "E:\n",
        "\n",
        "- A restrição (1) indica que só podemos chegar em $j$ a partir de uma aresta, ou seja, nunca visitaremos $j$ mais de uma vez;\n",
        "- A restrição (2) indica que só podemos sair de uma cidade $j$ uma vez;\n",
        "- A restrição (3) garante que todos os nós tem que ser visitados;\n",
        "- A restrição (4) determina que uma aresta é percorrida no máximo vez;\n",
        "- A restrição (5) determina que a variável $p$ seja binária, ou seja, só assume o valor 0 ou 1;\n",
        "- A restrição (6) determina que deve existir pelo menos 3 galáxias em $G$;"
      ]
    },
    {
      "cell_type": "markdown",
      "metadata": {
        "id": "26gcm9dPVBMm"
      },
      "source": [
        "# Instalação do PuLP\n",
        "Esse foi o software utilizado para resolução do problema modelado. A documentação dele está presente **[aqui](https://coin-or.github.io/pulp/)**."
      ]
    },
    {
      "cell_type": "code",
      "metadata": {
        "id": "sdI_qQ225K7b",
        "outputId": "81b86be7-003e-4617-aa3d-dfac6a89c762",
        "colab": {
          "base_uri": "https://localhost:8080/"
        }
      },
      "source": [
        "pip install PuLP"
      ],
      "execution_count": null,
      "outputs": [
        {
          "output_type": "stream",
          "text": [
            "Requirement already satisfied: PuLP in /usr/local/lib/python3.6/dist-packages (2.3.1)\n",
            "Requirement already satisfied: amply>=0.1.2 in /usr/local/lib/python3.6/dist-packages (from PuLP) (0.1.4)\n",
            "Requirement already satisfied: pyparsing in /usr/local/lib/python3.6/dist-packages (from amply>=0.1.2->PuLP) (2.4.7)\n",
            "Requirement already satisfied: docutils>=0.3 in /usr/local/lib/python3.6/dist-packages (from amply>=0.1.2->PuLP) (0.16)\n"
          ],
          "name": "stdout"
        }
      ]
    },
    {
      "cell_type": "markdown",
      "metadata": {
        "id": "BKkmawN2VTJw"
      },
      "source": [
        "# Importando os módulos necessários para executar a implementação"
      ]
    },
    {
      "cell_type": "code",
      "metadata": {
        "id": "7vQsa7pyVbX1"
      },
      "source": [
        "import math\n",
        "import pulp as pl\n",
        "import numpy as np\n",
        "from sklearn.metrics.pairwise import euclidean_distances"
      ],
      "execution_count": null,
      "outputs": []
    },
    {
      "cell_type": "markdown",
      "metadata": {
        "id": "rHNi3s33V872"
      },
      "source": [
        "# Início da implementação"
      ]
    },
    {
      "cell_type": "code",
      "metadata": {
        "id": "B1NQhnJY5T-F",
        "outputId": "604158a5-6c97-4c2d-e61b-c1c2c3f1dfa5",
        "colab": {
          "base_uri": "https://localhost:8080/"
        }
      },
      "source": [
        "# Coordenadas das N galáxias. Para adicionar mais uma galáxia, basta\n",
        "# adicionar mais um vetor de coordenadas [x,y].\n",
        "G = np.asarray([[4,5], [7,4], [6,2], [1,3], [2,0]])\n",
        "\n",
        "# Calculando as distâncias euclidianas entre cada galáxias. Usaremos\n",
        "# esse resultado como sendo o peso de se viajar de uma galáxia 'i'\n",
        "# para uma galáxia 'j'.\n",
        "dist = euclidean_distances(G,G)\n",
        "\n",
        "numGalaxias = len(G)\n",
        "\n",
        "print(dist)"
      ],
      "execution_count": null,
      "outputs": [
        {
          "output_type": "stream",
          "text": [
            "[[0.         3.16227766 3.60555128 3.60555128 5.38516481]\n",
            " [3.16227766 0.         2.23606798 6.08276253 6.40312424]\n",
            " [3.60555128 2.23606798 0.         5.09901951 4.47213595]\n",
            " [3.60555128 6.08276253 5.09901951 0.         3.16227766]\n",
            " [5.38516481 6.40312424 4.47213595 3.16227766 0.        ]]\n"
          ],
          "name": "stdout"
        }
      ]
    },
    {
      "cell_type": "code",
      "metadata": {
        "id": "CveaK1j86RZ0",
        "outputId": "f5f42358-4564-4e80-f6f3-b287c9273498",
        "colab": {
          "base_uri": "https://localhost:8080/"
        }
      },
      "source": [
        "# Definindo o nosso problema\n",
        "prob = pl.LpProblem(\"EnigmaDasGaláxias\", pl.LpMinimize) \n",
        "\n",
        "obj = [] # Variável que armazenará a função objetivo\n",
        "aux = {} # Dicionário auxiliar\n",
        "aux1 = {} # Dicionário auxiliar\n",
        "aux2 = {} # Dicionário auxiliar\n",
        "aux3 = [] # Vetor auxiliar\n",
        "\n",
        "p = {} # Dicionário que armazenará nossas variáveis binárias pij\n",
        "\n",
        "for i in range(0, numGalaxias):\n",
        "  for j in range(0, numGalaxias):\n",
        "      if i != j:\n",
        "        #   Já garante a restrição 5 do problema\n",
        "        p[i,j] = pl.LpVariable(\"P\"+str(i)+str(j), cat='Binary') \n",
        "\n",
        "# Definindo a restrição 1\n",
        "for i in range(numGalaxias):\n",
        "    aux[i] = pl.LpAffineExpression([(p[i, j], 1) for j in range(numGalaxias) if i!=j])\n",
        "    # Adicionando a restrição ao modelo\n",
        "    prob += pl.LpConstraint(aux[i], 0, \"Restrição 1:\" + str(i), 1)\n",
        "\n",
        "# Definindo a restrição 2\n",
        "for i in range(numGalaxias):\n",
        "  aux1[i] = pl.LpAffineExpression([(p[j, i], 1) for j in range(numGalaxias) if i!=j])\n",
        "  # Adicionando a restrição ao modelo\n",
        "  prob += pl.LpConstraint(aux1[i], 0, \"soma de cada coluna eh 1 - coluna \"  + str(i), 1)\n",
        "\n",
        "# Definindo a restrição 3\n",
        "k = 0 # Auxiliar pra percorrer o aux2\n",
        "\n",
        "for i in range(numGalaxias):\n",
        "  for j in range(i, numGalaxias):\n",
        "    if i != j: \n",
        "      \n",
        "      # Auxiliar para montar a expressao da combinação linear para a restrição\n",
        "      aux2[k] = pl.LpAffineExpression([(p[i, j], 1), (p[j, i], 1)])\n",
        "      # Adicionando a restrição ao modelo\n",
        "      prob += pl.LpConstraint(aux2[k], -1, \"restrição de ida e vinda\" + str(k), 1)\n",
        "\n",
        "      k = k + 1\n",
        "\n",
        "    else:\n",
        "      continue\n",
        "\n",
        "# Definindo a restrição 4 - equivale a restrição 3 do trampo \n",
        "for i in range(numGalaxias):\n",
        "  aux3 += pl.LpAffineExpression([(p[i, j], 1) for j in range(numGalaxias) if i!=j])\n",
        "\n",
        "# Adicionando restrição ao modelo\n",
        "prob +=  pl.LpConstraint(aux3, 0, \"vistia todos nós obrigatóriamente\", numGalaxias)\n",
        "\n",
        "# A restrição 6 do problema foi garantida ao evitar que os laços\n",
        "# fossem executados quando i == j\n",
        "\n",
        "# Definindo a função objetivo\n",
        "for i in range(numGalaxias):\n",
        "  obj += pl.LpAffineExpression([(p[i, j], dist[i][j]) for j in range(numGalaxias) if i!=j])\n",
        "\n",
        "# Adicionando a função objetivo ao modelo\n",
        "prob += obj\n",
        "\n",
        "status = prob.solve()\n",
        "print(\"Tempo de execução: \", prob.solutionTime)\n",
        "\n",
        "result = 0\n",
        "\n",
        "print(\"Caminho percorrido [(ida) -> (chegada)]\")\n",
        "for i in range(0, numGalaxias):\n",
        "  for j in range(0, numGalaxias):\n",
        "      if (i!=j):\n",
        "        if (pl.value(p[i,j])):\n",
        "            result += dist[i][j]\n",
        "            print(str(i) + \" -> \" + str(j))\n",
        "\n",
        "print(\"Custo do caminho mínimo: \", result)"
      ],
      "execution_count": null,
      "outputs": [
        {
          "output_type": "stream",
          "text": [
            "Tempo de execução:  0.007536460999999939\n",
            "Caminho percorrido [(ida) -> (chegada)]\n",
            "0 -> 1\n",
            "1 -> 2\n",
            "2 -> 4\n",
            "3 -> 0\n",
            "4 -> 3\n",
            "Custo do caminho mínimo:  16.638310528300117\n"
          ],
          "name": "stdout"
        }
      ]
    }
  ]
}